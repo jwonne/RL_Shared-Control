{
  "cells": [
    {
      "cell_type": "markdown",
      "metadata": {
        "id": "view-in-github",
        "colab_type": "text"
      },
      "source": [
        "<a href=\"https://colab.research.google.com/github/jwonne/RL_Shared-Control/blob/main/JW_pytorch_realnvp_mnist.ipynb\" target=\"_parent\"><img src=\"https://colab.research.google.com/assets/colab-badge.svg\" alt=\"Open In Colab\"/></a>"
      ]
    },
    {
      "cell_type": "code",
      "execution_count": 6,
      "metadata": {
        "ExecuteTime": {
          "end_time": "2022-03-15T00:33:27.979800Z",
          "start_time": "2022-03-15T00:33:26.713172Z"
        },
        "colab": {
          "base_uri": "https://localhost:8080/",
          "height": 379
        },
        "id": "SppESO-AD7yL",
        "outputId": "1f2f8f11-021a-4b60-bb1a-d76ec64c6d7b"
      },
      "outputs": [
        {
          "output_type": "error",
          "ename": "NameError",
          "evalue": "ignored",
          "traceback": [
            "\u001b[0;31m---------------------------------------------------------------------------\u001b[0m",
            "\u001b[0;31mNameError\u001b[0m                                 Traceback (most recent call last)",
            "\u001b[0;32m<ipython-input-6-ad351709791b>\u001b[0m in \u001b[0;36m<cell line: 2>\u001b[0;34m()\u001b[0m\n\u001b[1;32m      1\u001b[0m \u001b[0;32mimport\u001b[0m \u001b[0mos\u001b[0m\u001b[0;34m\u001b[0m\u001b[0;34m\u001b[0m\u001b[0m\n\u001b[0;32m----> 2\u001b[0;31m \u001b[0;32mimport\u001b[0m \u001b[0mtorch\u001b[0m\u001b[0;34m\u001b[0m\u001b[0;34m\u001b[0m\u001b[0m\n\u001b[0m\u001b[1;32m      3\u001b[0m \u001b[0;32mimport\u001b[0m \u001b[0mnumpy\u001b[0m \u001b[0;32mas\u001b[0m \u001b[0mnp\u001b[0m\u001b[0;34m\u001b[0m\u001b[0;34m\u001b[0m\u001b[0m\n\u001b[1;32m      4\u001b[0m \u001b[0;32mimport\u001b[0m \u001b[0mpandas\u001b[0m \u001b[0;32mas\u001b[0m \u001b[0mpd\u001b[0m\u001b[0;34m\u001b[0m\u001b[0;34m\u001b[0m\u001b[0m\n\u001b[1;32m      5\u001b[0m \u001b[0;34m\u001b[0m\u001b[0m\n",
            "\u001b[0;32m/usr/local/lib/python3.10/dist-packages/torch/__init__.py\u001b[0m in \u001b[0;36m<module>\u001b[0;34m\u001b[0m\n\u001b[1;32m    463\u001b[0m     \u001b[0;32mraise\u001b[0m  \u001b[0;31m# If __file__ is not None the cause is unknown, so just re-raise.\u001b[0m\u001b[0;34m\u001b[0m\u001b[0;34m\u001b[0m\u001b[0m\n\u001b[1;32m    464\u001b[0m \u001b[0;34m\u001b[0m\u001b[0m\n\u001b[0;32m--> 465\u001b[0;31m \u001b[0;32mfor\u001b[0m \u001b[0mname\u001b[0m \u001b[0;32min\u001b[0m \u001b[0mdir\u001b[0m\u001b[0;34m(\u001b[0m\u001b[0m_C\u001b[0m\u001b[0;34m)\u001b[0m\u001b[0;34m:\u001b[0m\u001b[0;34m\u001b[0m\u001b[0;34m\u001b[0m\u001b[0m\n\u001b[0m\u001b[1;32m    466\u001b[0m     \u001b[0;32mif\u001b[0m \u001b[0mname\u001b[0m\u001b[0;34m[\u001b[0m\u001b[0;36m0\u001b[0m\u001b[0;34m]\u001b[0m \u001b[0;34m!=\u001b[0m \u001b[0;34m'_'\u001b[0m \u001b[0;32mand\u001b[0m \u001b[0;32mnot\u001b[0m \u001b[0mname\u001b[0m\u001b[0;34m.\u001b[0m\u001b[0mendswith\u001b[0m\u001b[0;34m(\u001b[0m\u001b[0;34m'Base'\u001b[0m\u001b[0;34m)\u001b[0m\u001b[0;34m:\u001b[0m\u001b[0;34m\u001b[0m\u001b[0;34m\u001b[0m\u001b[0m\n\u001b[1;32m    467\u001b[0m         \u001b[0m__all__\u001b[0m\u001b[0;34m.\u001b[0m\u001b[0mappend\u001b[0m\u001b[0;34m(\u001b[0m\u001b[0mname\u001b[0m\u001b[0;34m)\u001b[0m\u001b[0;34m\u001b[0m\u001b[0;34m\u001b[0m\u001b[0m\n",
            "\u001b[0;31mNameError\u001b[0m: name '_C' is not defined"
          ]
        }
      ],
      "source": [
        "import os\n",
        "import torch\n",
        "import numpy as np\n",
        "import pandas as pd\n",
        "\n",
        "from torch import nn\n",
        "from torch.utils.data import DataLoader, Dataset\n",
        "from torchvision import datasets, transforms\n",
        "from torchvision.transforms import ToTensor, Lambda\n",
        "import matplotlib.pyplot as plt\n"
      ]
    },
    {
      "cell_type": "code",
      "execution_count": null,
      "metadata": {
        "ExecuteTime": {
          "end_time": "2022-03-15T00:33:27.999829Z",
          "start_time": "2022-03-15T00:33:27.981836Z"
        },
        "scrolled": true,
        "id": "o9ahb4PxD7yN"
      },
      "outputs": [],
      "source": [
        "available = torch.cuda.is_available()\n",
        "curr_device = torch.cuda.current_device()\n",
        "device = torch.device(\"cuda:0\" if available else \"cpu\")\n",
        "device_count = torch.cuda.device_count()\n",
        "device_name =  torch.cuda.get_device_name(0)\n",
        "\n",
        "print(f'Cuda available: {available}')\n",
        "print(f'Current device: {curr_device}')\n",
        "print(f'Device: {device}')\n",
        "print(f'Device count: {device_count}')\n",
        "print(f'Device name: {device_name}')"
      ]
    },
    {
      "cell_type": "code",
      "execution_count": null,
      "metadata": {
        "ExecuteTime": {
          "end_time": "2022-03-15T00:33:28.097169Z",
          "start_time": "2022-03-15T00:33:28.001249Z"
        },
        "id": "IPlfAGCfD7yO"
      },
      "outputs": [],
      "source": [
        "# (Adapted) Code from PyTorch's Resnet impl: https://github.com/pytorch/vision/blob/main/torchvision/models/resnet.py\n",
        "\n",
        "def conv3x3(in_planes: int, out_planes: int, stride: int = 1, groups: int = 1, dilation: int = 1) -> nn.Conv2d:\n",
        "    \"\"\"3x3 convolution with padding\"\"\"\n",
        "    return nn.Conv2d(\n",
        "        in_planes,\n",
        "        out_planes,\n",
        "        kernel_size=3,\n",
        "        stride=stride,\n",
        "        padding=dilation,\n",
        "        groups=groups,\n",
        "        bias=False,\n",
        "        dilation=dilation,\n",
        "    )\n",
        "\n",
        "\n",
        "def conv1x1(in_planes: int, out_planes: int, stride: int = 1) -> nn.Conv2d:\n",
        "    \"\"\"1x1 convolution\"\"\"\n",
        "    return nn.Conv2d(in_planes, out_planes, kernel_size=1, stride=stride, bias=False)\n",
        "\n",
        "\n",
        "class BasicBlock(nn.Module):\n",
        "    expansion: int = 1\n",
        "\n",
        "    def __init__(\n",
        "        self,\n",
        "        inplanes: int,\n",
        "        planes: int,\n",
        "        stride: int = 1,\n",
        "        downsample = None,\n",
        "        groups: int = 1,\n",
        "        base_width: int = 64,\n",
        "        dilation: int = 1,\n",
        "        norm_layer = None,\n",
        "    ) -> None:\n",
        "        super().__init__()\n",
        "        if norm_layer is None:\n",
        "            # norm_layer = nn.BatchNorm2d\n",
        "            norm_layer = nn.InstanceNorm2d\n",
        "        if groups != 1 or base_width != 64:\n",
        "            raise ValueError(\"BasicBlock only supports groups=1 and base_width=64\")\n",
        "        if dilation > 1:\n",
        "            raise NotImplementedError(\"Dilation > 1 not supported in BasicBlock\")\n",
        "        # Both self.conv1 and self.downsample layers downsample the input when stride != 1\n",
        "        self.conv1 = conv3x3(inplanes, planes, stride)\n",
        "        self.bn1 = norm_layer(planes)\n",
        "        self.relu = nn.ReLU(inplace=True)\n",
        "        self.conv2 = conv3x3(planes, planes)\n",
        "        self.bn2 = norm_layer(planes)\n",
        "        self.downsample = downsample\n",
        "        self.stride = stride\n",
        "\n",
        "    def forward(self, x: torch.Tensor) -> torch.Tensor:\n",
        "        identity = x\n",
        "\n",
        "        out = self.conv1(x)\n",
        "        out = self.bn1(out)\n",
        "        out = self.relu(out)\n",
        "\n",
        "        out = self.conv2(out)\n",
        "        out = self.bn2(out)\n",
        "\n",
        "        if self.downsample is not None:\n",
        "            identity = self.downsample(x)\n",
        "\n",
        "        out += identity\n",
        "        out = self.relu(out)\n",
        "\n",
        "        return out\n",
        "\n",
        "\n",
        "class Bottleneck(nn.Module):\n",
        "    # Bottleneck in torchvision places the stride for downsampling at 3x3 convolution(self.conv2)\n",
        "    # while original implementation places the stride at the first 1x1 convolution(self.conv1)\n",
        "    # according to \"Deep residual learning for image recognition\"https://arxiv.org/abs/1512.03385.\n",
        "    # This variant is also known as ResNet V1.5 and improves accuracy according to\n",
        "    # https://ngc.nvidia.com/catalog/model-scripts/nvidia:resnet_50_v1_5_for_pytorch.\n",
        "\n",
        "    expansion: int = 1\n",
        "\n",
        "    def __init__(\n",
        "        self,\n",
        "        inplanes: int,\n",
        "        planes: int,\n",
        "        stride: int = 1,\n",
        "        downsample = None,\n",
        "        groups: int = 1,\n",
        "        base_width: int = 64,\n",
        "        dilation: int = 1,\n",
        "        norm_layer = None,\n",
        "    ) -> None:\n",
        "        super().__init__()\n",
        "        if norm_layer is None:\n",
        "            #norm_layer = nn.BatchNorm2d\n",
        "            norm_layer = nn.InstanceNorm2d\n",
        "        width = int(planes * (base_width / 64.0)) * groups\n",
        "        # Both self.conv2 and self.downsample layers downsample the input when stride != 1\n",
        "        self.conv1 = conv1x1(inplanes, width)\n",
        "        self.bn1 = norm_layer(width)\n",
        "        self.conv2 = conv3x3(width, width, stride, groups, dilation)\n",
        "        self.bn2 = norm_layer(width)\n",
        "        self.conv3 = conv1x1(width, planes * self.expansion)\n",
        "        self.bn3 = norm_layer(planes * self.expansion)\n",
        "        self.relu = nn.ReLU(inplace=True)\n",
        "        self.downsample = downsample\n",
        "        self.stride = stride\n",
        "\n",
        "    def forward(self, x: torch.Tensor) -> torch.Tensor:\n",
        "        identity = x\n",
        "\n",
        "        out = self.conv1(x)\n",
        "        out = self.bn1(out)\n",
        "        out = self.relu(out)\n",
        "\n",
        "        out = self.conv2(out)\n",
        "        out = self.bn2(out)\n",
        "        out = self.relu(out)\n",
        "\n",
        "        out = self.conv3(out)\n",
        "        out = self.bn3(out)\n",
        "\n",
        "        if self.downsample is not None:\n",
        "            identity = self.downsample(x)\n",
        "\n",
        "        out += identity\n",
        "        out = self.relu(out)\n",
        "\n",
        "        return out"
      ]
    },
    {
      "cell_type": "code",
      "execution_count": null,
      "metadata": {
        "ExecuteTime": {
          "end_time": "2022-03-15T00:33:28.225185Z",
          "start_time": "2022-03-15T00:33:28.099703Z"
        },
        "id": "TD4nuKzPD7yO"
      },
      "outputs": [],
      "source": [
        "class MyBatchNorm2d(nn.modules.batchnorm._NormBase):\n",
        "    ''' Partially based on:\n",
        "        https://pytorch.org/docs/stable/_modules/torch/nn/modules/batchnorm.html#BatchNorm2d\n",
        "        https://discuss.pytorch.org/t/implementing-batchnorm-in-pytorch-problem-with-updating-self-running-mean-and-self-running-var/49314/5\n",
        "    '''\n",
        "    def __init__(\n",
        "        self,\n",
        "        num_features,\n",
        "        eps=1e-5,\n",
        "        momentum=0.005,\n",
        "        device=None,\n",
        "        dtype=None\n",
        "    ):\n",
        "        factory_kwargs = {'device': device, 'dtype': dtype, 'affine': False, 'track_running_stats': True}\n",
        "        super(MyBatchNorm2d, self).__init__(\n",
        "            num_features, eps, momentum, **factory_kwargs\n",
        "        )\n",
        "\n",
        "    def _check_input_dim(self, input):\n",
        "        if input.dim() != 4:\n",
        "            raise ValueError(\"expected 4D input (got {}D input)\".format(input.dim()))\n",
        "\n",
        "    def forward(self, input, validation=False):\n",
        "        self._check_input_dim(input)\n",
        "\n",
        "        if self.training:\n",
        "            # Note: Need to detatch `running_{mean,var}` so don't backwards propagate through them\n",
        "            unbiased_var, tmean = torch.var_mean(input, [0, 2, 3], unbiased=True)\n",
        "            mean = torch.mean(input, [0, 2, 3]) # along channel axis\n",
        "            unbiased_var = torch.var(input, [0, 2, 3], unbiased=True) # along channel axis\n",
        "            running_mean = (1.0 - self.momentum) * self.running_mean.detach() + self.momentum * mean\n",
        "\n",
        "            # Strange: PyTorch impl. of running variance uses biased_variance for the batch calc but\n",
        "            # *unbiased_var* for the running_var!\n",
        "            # https://github.com/pytorch/pytorch/blob/master/aten/src/ATen/native/Normalization.cpp#L190\n",
        "            running_var = (1.0 - self.momentum) * self.running_var.detach() + self.momentum * unbiased_var\n",
        "\n",
        "            # BK: Modification from the paper to use running mean/var instead of batch mean/var\n",
        "            # change shape\n",
        "            current_mean = running_mean.view([1, self.num_features, 1, 1]).expand_as(input)\n",
        "            current_var = running_var.view([1, self.num_features, 1, 1]).expand_as(input)\n",
        "\n",
        "            denom = (current_var + self.eps)\n",
        "            y = (input - current_mean) / denom.sqrt()\n",
        "\n",
        "            self.running_mean = running_mean\n",
        "            self.running_var = running_var\n",
        "\n",
        "            return y, -0.5 * torch.log(denom)\n",
        "        else:\n",
        "            current_mean = self.running_mean.view([1, self.num_features, 1, 1]).expand_as(input)\n",
        "            current_var = self.running_var.view([1, self.num_features, 1, 1]).expand_as(input)\n",
        "\n",
        "            if validation:\n",
        "                denom = (current_var + self.eps)\n",
        "                y = (input - current_mean) / denom.sqrt()\n",
        "            else:\n",
        "                # Reverse operation for testing\n",
        "                denom = (current_var + self.eps)\n",
        "                y = input * denom.sqrt() + current_mean\n",
        "\n",
        "            return y, -0.5 * torch.log(denom)"
      ]
    },
    {
      "cell_type": "code",
      "execution_count": null,
      "metadata": {
        "ExecuteTime": {
          "end_time": "2022-03-15T00:33:28.343846Z",
          "start_time": "2022-03-15T00:33:28.227570Z"
        },
        "id": "WRP0Vk8eD7yP"
      },
      "outputs": [],
      "source": [
        "class Reshape(nn.Module):\n",
        "    def __init__(self, shape):\n",
        "        super(Reshape, self).__init__()\n",
        "        self.shape = tuple([-1] + list(shape))\n",
        "\n",
        "    def forward(self, x):\n",
        "        return torch.reshape(x, self.shape)\n",
        "\n",
        "def dense_backbone(shape, network_width):\n",
        "    input_width = shape[0] * shape[1] * shape[2]\n",
        "    return nn.Sequential(\n",
        "        nn.Flatten(),\n",
        "        nn.Linear(input_width, network_width),\n",
        "        nn.ReLU(),\n",
        "        nn.Linear(network_width, network_width),\n",
        "        nn.ReLU(),\n",
        "        nn.Linear(network_width, network_width),\n",
        "        nn.ReLU(),\n",
        "        nn.Linear(network_width, input_width),\n",
        "        Reshape(shape)\n",
        "    )\n",
        "\n",
        "def bottleneck_backbone(in_planes, planes):\n",
        "    return nn.Sequential(\n",
        "        conv3x3(in_planes, planes),\n",
        "        BasicBlock(planes, planes),\n",
        "        BasicBlock(planes, planes),\n",
        "        conv3x3(planes, in_planes),\n",
        "    )\n",
        "\n",
        "check_mask = {}\n",
        "check_mask_device = {}\n",
        "def checkerboard_mask(shape, to_device=True):\n",
        "    global check_mask, check_mask_device\n",
        "    if shape not in check_mask:\n",
        "        check_mask[shape] = 1 - np.indices(shape).sum(axis=0) % 2\n",
        "        check_mask[shape] = torch.Tensor(check_mask[shape])\n",
        "\n",
        "    if to_device and shape not in check_mask_device:\n",
        "        check_mask_device[shape] = check_mask[shape].to(device)\n",
        "\n",
        "    return check_mask_device[shape] if to_device else check_mask[shape]\n",
        "\n",
        "chan_mask = {}\n",
        "chan_mask_device = {}\n",
        "def channel_mask(shape, to_device=True):\n",
        "    assert len(shape) == 3, shape\n",
        "    assert shape[0] % 2 == 0, shape\n",
        "    global chan_mask, chan_mask_device\n",
        "    if shape not in chan_mask:\n",
        "        chan_mask[shape] = torch.cat([torch.zeros((shape[0] // 2, shape[1], shape[2])),\n",
        "                                      torch.ones((shape[0] // 2, shape[1], shape[2])),],\n",
        "                                      dim=0)\n",
        "        assert chan_mask[shape].shape == shape, (chan_mask[shape].shape, shape)\n",
        "\n",
        "    if to_device and shape not in chan_mask_device:\n",
        "        chan_mask_device[shape] = chan_mask[shape].to(device)\n",
        "\n",
        "    return chan_mask_device[shape] if to_device else chan_mask[shape]"
      ]
    },
    {
      "cell_type": "code",
      "execution_count": null,
      "metadata": {
        "ExecuteTime": {
          "end_time": "2022-03-15T00:33:28.461255Z",
          "start_time": "2022-03-15T00:33:28.346571Z"
        },
        "id": "1J2zNHdCD7yP"
      },
      "outputs": [],
      "source": [
        "class NormalizingFlowMNist(nn.Module):\n",
        "    EPSILON = 1e-5\n",
        "\n",
        "    def __init__(self, num_coupling, num_final_coupling, planes):\n",
        "        super(NormalizingFlowMNist, self).__init__()\n",
        "        self.num_coupling = num_coupling\n",
        "        self.num_final_coupling = num_final_coupling\n",
        "        self.shape = (1, 28, 28)\n",
        "\n",
        "        self.planes = planes\n",
        "        self.s = nn.ModuleList()\n",
        "        self.t = nn.ModuleList()\n",
        "        self.norms = nn.ModuleList()\n",
        "\n",
        "        # Learnable scalar scaling parameters for outputs of S and T\n",
        "        self.s_scale = nn.ParameterList()\n",
        "        self.t_scale = nn.ParameterList()\n",
        "        self.t_bias = nn.ParameterList()\n",
        "        self.shapes = []\n",
        "\n",
        "        shape = self.shape\n",
        "        for i in range(num_coupling):\n",
        "            self.s.append(dense_backbone(shape, planes))\n",
        "            self.t.append(dense_backbone(shape, planes))\n",
        "\n",
        "            self.s_scale.append(torch.nn.Parameter(torch.zeros(shape), requires_grad=True))\n",
        "            self.t_scale.append(torch.nn.Parameter(torch.zeros(shape), requires_grad=True))\n",
        "            self.t_bias.append(torch.nn.Parameter(torch.zeros(shape), requires_grad=True))\n",
        "\n",
        "            self.norms.append(MyBatchNorm2d(shape[0]))\n",
        "\n",
        "            self.shapes.append(shape)\n",
        "\n",
        "            if i % 6 == 2:\n",
        "                shape = (4 * shape[0], shape[1] // 2, shape[2] // 2)\n",
        "\n",
        "            if i % 6 == 5 or self.num_coupling - 1 == i:\n",
        "                # Factoring out half the channels\n",
        "                shape = (shape[0] // 2, shape[1], shape[2])\n",
        "                planes = 2 * planes\n",
        "\n",
        "        # Final coupling layers checkerboard\n",
        "        for i in range(num_final_coupling):\n",
        "            self.s.append(dense_backbone(shape, planes))\n",
        "            self.t.append(dense_backbone(shape, planes))\n",
        "\n",
        "            self.s_scale.append(torch.nn.Parameter(torch.zeros(shape), requires_grad=True))\n",
        "            self.t_scale.append(torch.nn.Parameter(torch.zeros(shape), requires_grad=True))\n",
        "            self.t_bias.append(torch.nn.Parameter(torch.zeros(shape), requires_grad=True))\n",
        "\n",
        "            self.norms.append(MyBatchNorm2d(shape[0]))\n",
        "\n",
        "            self.shapes.append(shape)\n",
        "\n",
        "        self.validation = False\n",
        "\n",
        "    def validate(self):\n",
        "        self.eval()\n",
        "        self.validation = True\n",
        "\n",
        "    def train(self, mode=True):\n",
        "        nn.Module.train(self, mode)\n",
        "        self.validation = False\n",
        "\n",
        "    def forward(self, x):\n",
        "        if self.training or self.validation:\n",
        "            s_vals = []\n",
        "            norm_vals = []\n",
        "            y_vals = []\n",
        "\n",
        "            for i in range(self.num_coupling):\n",
        "                shape = self.shapes[i]\n",
        "                mask = checkerboard_mask(shape) if i % 6 < 3 else channel_mask(shape)\n",
        "                mask = mask if i % 2 == 0 else (1 - mask)\n",
        "\n",
        "                t = (self.t_scale[i]) * self.t[i](mask * x) + (self.t_bias[i])\n",
        "                s = (self.s_scale[i]) * torch.tanh(self.s[i](mask * x))\n",
        "                y = mask * x + (1 - mask) * (x * torch.exp(s) + t)\n",
        "                s_vals.append(torch.flatten((1 - mask) * s))\n",
        "\n",
        "                if self.norms[i] is not None:\n",
        "                    y, norm_loss = self.norms[i](y, validation=self.validation)\n",
        "                    norm_vals.append(norm_loss)\n",
        "\n",
        "                if i % 6 == 2:\n",
        "                    y = torch.nn.functional.pixel_unshuffle(y, 2)\n",
        "\n",
        "                if i % 6 == 5 or self.num_coupling -1 == i:\n",
        "                    factor_channels = y.shape[1] // 2\n",
        "                    y_vals.append(torch.flatten(y[:, factor_channels:, :, :], 1))\n",
        "                    y = y[:, :factor_channels, :, :]\n",
        "\n",
        "                x = y\n",
        "\n",
        "            # Final checkboard coupling\n",
        "            for i in range(self.num_coupling, self.num_coupling + self.num_final_coupling):\n",
        "                shape = self.shapes[i]\n",
        "                mask = checkerboard_mask(shape)\n",
        "                mask = mask if i % 2 == 0 else (1 - mask)\n",
        "\n",
        "                t = (self.t_scale[i]) * self.t[i](mask * x) + (self.t_bias[i])\n",
        "                s = (self.s_scale[i]) * torch.tanh(self.s[i](mask * x))\n",
        "                y = mask * x + (1 - mask) * (x * torch.exp(s) + t)\n",
        "                s_vals.append(torch.flatten((1 - mask) * s))\n",
        "\n",
        "                if self.norms[i] is not None:\n",
        "                    y, norm_loss = self.norms[i](y, validation=self.validation)\n",
        "                    norm_vals.append(norm_loss)\n",
        "\n",
        "                x = y\n",
        "\n",
        "            y_vals.append(torch.flatten(y, 1))\n",
        "\n",
        "            # Return outputs and vars needed for determinant\n",
        "            return (torch.flatten(torch.cat(y_vals, 1), 1),\n",
        "                    torch.cat(s_vals),\n",
        "                    torch.cat([torch.flatten(v) for v in norm_vals]) if len(norm_vals) > 0 else torch.zeros(1),\n",
        "                    torch.cat([torch.flatten(s) for s in self.s_scale]))\n",
        "        else:\n",
        "            y = x\n",
        "            y_remaining = y\n",
        "\n",
        "            layer_vars = np.prod(self.shapes[-1])\n",
        "            y = torch.reshape(y_remaining[:, -layer_vars:], (-1,) + self.shapes[-1])\n",
        "            y_remaining = y_remaining[:, :-layer_vars]\n",
        "\n",
        "            # Reversed final checkboard coupling\n",
        "            for i in reversed(range(self.num_coupling, self.num_coupling + self.num_final_coupling)):\n",
        "                shape = self.shapes[i]\n",
        "                mask = checkerboard_mask(shape)\n",
        "                mask = mask if i % 2 == 0 else (1 - mask)\n",
        "\n",
        "                if self.norms[i] is not None:\n",
        "                    y, _ = self.norms[i](y)\n",
        "\n",
        "                t = (self.t_scale[i]) * self.t[i](mask * y) + (self.t_bias[i])\n",
        "                s = (self.s_scale[i]) * torch.tanh(self.s[i](mask * y))\n",
        "                x = mask * y + (1 - mask) * ((y - t) * torch.exp(-s))\n",
        "\n",
        "                y = x\n",
        "\n",
        "            layer_vars = np.prod(shape)\n",
        "            y = torch.cat((y, torch.reshape(y_remaining[:, -layer_vars:], (-1,) + shape)), 1)\n",
        "            y_remaining = y_remaining[:, :-layer_vars]\n",
        "\n",
        "            # Multi-scale coupling layers\n",
        "            for i in reversed(range(self.num_coupling)):\n",
        "                shape = self.shapes[i]\n",
        "                mask = checkerboard_mask(shape) if i % 6 < 3 else channel_mask(shape)\n",
        "                mask = mask if i % 2 == 0 else (1 - mask)\n",
        "\n",
        "                if self.norms[i] is not None:\n",
        "                    y, _ = self.norms[i](y)\n",
        "\n",
        "                t = (self.t_scale[i]) * self.t[i](mask * y) + (self.t_bias[i])\n",
        "                s = (self.s_scale[i]) * torch.tanh(self.s[i](mask * y))\n",
        "                x = mask * y + (1 - mask) * ((y - t) * torch.exp(-s))\n",
        "\n",
        "                if i % 6 == 3:\n",
        "                    x = torch.nn.functional.pixel_shuffle(x, 2)\n",
        "\n",
        "                y = x\n",
        "\n",
        "                if i > 0 and i % 6 == 0:\n",
        "                    layer_vars = np.prod(shape)\n",
        "                    y = torch.cat((y, torch.reshape(y_remaining[:, -layer_vars:], (-1,) + shape)), 1)\n",
        "                    y_remaining = y_remaining[:, :-layer_vars]\n",
        "\n",
        "            assert np.prod(y_remaining.shape) == 0\n",
        "\n",
        "            return x"
      ]
    },
    {
      "cell_type": "code",
      "execution_count": null,
      "metadata": {
        "ExecuteTime": {
          "end_time": "2022-03-15T00:33:30.921081Z",
          "start_time": "2022-03-15T00:33:28.463060Z"
        },
        "id": "bCxMM3SxD7yQ"
      },
      "outputs": [],
      "source": [
        "PI = torch.tensor(np.pi).to(device)\n",
        "def loss_fn(y, s, norms, scale, batch_size):\n",
        "    # -log(zero-mean gaussian) + log determinant\n",
        "    # -log p_x = log(pz(f(x))) + log(det(\\partial f/\\partial x))\n",
        "    # -log p_x = 0.5 * y**2 + s1 + s2 + ... + batch_norm_scalers + l2_regularizers(scale)\n",
        "    logpx = -torch.sum(0.5 * torch.log(2 * PI) + 0.5 * y**2)\n",
        "    det = torch.sum(s)\n",
        "    norms = torch.sum(norms)\n",
        "    reg = 5e-5 * torch.sum(scale ** 2)\n",
        "    loss = -(logpx + det + norms) + reg\n",
        "    return torch.div(loss, batch_size), (-logpx, -det, -norms, reg)"
      ]
    },
    {
      "cell_type": "markdown",
      "metadata": {
        "id": "EKiW-7soD7yQ"
      },
      "source": [
        "# MNist Training"
      ]
    },
    {
      "cell_type": "code",
      "execution_count": null,
      "metadata": {
        "ExecuteTime": {
          "end_time": "2022-03-15T00:33:30.925891Z",
          "start_time": "2022-03-15T00:33:30.922862Z"
        },
        "id": "PS-4hBQpD7yR"
      },
      "outputs": [],
      "source": [
        "def pre_process(x):\n",
        "    # Convert back to integer values\n",
        "    x = x * 255.\n",
        "\n",
        "    # Add random uniform [0, 1] noise to get a proper likelihood estimate\n",
        "    # https://bjlkeng.github.io/posts/a-note-on-using-log-likelihood-for-generative-models/\n",
        "    x = x + torch.rand(x.shape)\n",
        "\n",
        "    # Apply transform to deal with boundary effects (see realNVP paper)\n",
        "    #x = torch.logit(0.05 + 0.90 * x / 256)\n",
        "    #return x\n",
        "    return x / 255\n",
        "\n",
        "def post_process(x):\n",
        "    # Convert back to integer values\n",
        "    #return torch.clip(torch.floor(256 / 0.90 * (torch.sigmoid(x) - 0.05)), min=0, max=255) / 255\n",
        "    return torch.clip(x, min=0, max=1)"
      ]
    },
    {
      "cell_type": "code",
      "execution_count": null,
      "metadata": {
        "ExecuteTime": {
          "end_time": "2022-03-15T00:33:31.097756Z",
          "start_time": "2022-03-15T00:33:30.927309Z"
        },
        "id": "F0-m9taHD7yS"
      },
      "outputs": [],
      "source": [
        "train_dataset = datasets.MNIST('data', train=True, download=True,\n",
        "                               transform=transforms.Compose([\n",
        "                                   transforms.ToTensor(),\n",
        "                               ]))\n",
        "\n",
        "# TODO FIX ME\n",
        "# debug_data = []\n",
        "# for i, x in enumerate(train_dataset):\n",
        "#     if i >= 200:\n",
        "#         break\n",
        "#     debug_data.append(x)\n",
        "\n",
        "test_dataset = datasets.MNIST('data', train=False, download=True,\n",
        "                              transform=transforms.Compose([\n",
        "                                  transforms.ToTensor(),\n",
        "                              ]))"
      ]
    },
    {
      "cell_type": "code",
      "execution_count": null,
      "metadata": {
        "ExecuteTime": {
          "end_time": "2022-03-15T00:33:31.124980Z",
          "start_time": "2022-03-15T00:33:31.102645Z"
        },
        "id": "RhSY--JBD7yS"
      },
      "outputs": [],
      "source": [
        "def train_loop(dataloader, model, loss_fn, optimizer, batch_size, report_iters=10, num_pixels=28*28):\n",
        "    size = len(dataloader)\n",
        "    prev = []\n",
        "    for batch, (X, _) in enumerate(dataloader):\n",
        "        # Transfer to GPU\n",
        "        X = pre_process(X)\n",
        "        X = X.to(device)\n",
        "\n",
        "        # Compute prediction and loss\n",
        "        y, s, norms, scale = model(X)\n",
        "        loss, comps = loss_fn(y, s, norms, scale, batch_size)\n",
        "\n",
        "        # Backpropagation\n",
        "        optimizer.zero_grad()\n",
        "        loss.backward()\n",
        "\n",
        "        torch.nn.utils.clip_grad_norm_(model.parameters(), 1) # gradient_clipping = 1\n",
        "\n",
        "        prev = [(name, x, x.grad) for name, x in model.named_parameters(recurse=True)]\n",
        "        optimizer.step()\n",
        "\n",
        "        if batch % report_iters == 0:\n",
        "            loss, current = loss.item(), batch\n",
        "            # Account for x/255 preprocessing\n",
        "            loss += num_pixels * np.log(255)\n",
        "            print(f\"loss: {loss:.2f} = -logpx[{comps[0]:.1f}], -det[{comps[1]:.1f}], -norms[{comps[2]:.1f}], reg[{comps[3]:.4f}]\"\n",
        "                  f\"; bits/pixel: {loss / num_pixels / np.log(2):>.2f}  [{current:>5d}/{size:>5d}]\")\n",
        "\n",
        "\n",
        "def test_loop(dataloader, model, loss_fn, num_pixels=28*28):\n",
        "    size = len(dataloader)\n",
        "    num_batches = len(dataloader)\n",
        "    test_loss = 0\n",
        "\n",
        "    with torch.no_grad():\n",
        "        model.validate()\n",
        "        for X, _ in dataloader:\n",
        "            X = pre_process(X)\n",
        "            X = X.to(device)\n",
        "            y, s, norms, scale = model(X)\n",
        "            loss, _ = loss_fn(y, s, norms, scale, batch_size)\n",
        "            test_loss += loss\n",
        "\n",
        "        model.train()\n",
        "\n",
        "\n",
        "    test_loss /= num_batches\n",
        "    # Account for x/255 preprocessing\n",
        "    test_loss += num_pixels * np.log(255)\n",
        "    print(f\"Test Error: \\n Avg loss: {test_loss:.2f}; {test_loss / num_pixels / np.log(2):.2f} \\n\")\n",
        "    return test_loss"
      ]
    },
    {
      "cell_type": "code",
      "execution_count": null,
      "metadata": {
        "ExecuteTime": {
          "end_time": "2022-03-15T00:33:31.519257Z",
          "start_time": "2022-03-15T00:33:31.128663Z"
        },
        "id": "cDLwk6IfD7yS"
      },
      "outputs": [],
      "source": [
        "learning_rate = 0.001\n",
        "batch_size = 128\n",
        "epochs = 1\n",
        "\n",
        "model = NormalizingFlowMNist(num_coupling=4, num_final_coupling=1, planes=256).to(device)\n",
        "optimizer = torch.optim.Adam(model.parameters(), lr=learning_rate)\n",
        "scheduler = torch.optim.lr_scheduler.StepLR(optimizer, step_size=100, gamma=0.2)\n",
        "test_loader = DataLoader(test_dataset, batch_size=batch_size, shuffle=True)"
      ]
    },
    {
      "cell_type": "code",
      "execution_count": null,
      "metadata": {
        "ExecuteTime": {
          "end_time": "2022-03-15T01:45:49.330260Z",
          "start_time": "2022-03-15T00:33:31.521419Z"
        },
        "scrolled": true,
        "id": "8F-a_4mwD7yS"
      },
      "outputs": [],
      "source": [
        "model.train()\n",
        "\n",
        "best_validation = None\n",
        "PATH = '/content/drive/MyDrive/STDL_Assignment_1_Jinwon/Qs3/'\n",
        "for t in range(epochs):\n",
        "    train_loader = DataLoader(train_dataset, batch_size=batch_size, shuffle=True)\n",
        "    print(f\"Epoch {t+1}\\n-------------------------------\")\n",
        "    train_loop(train_loader, model, loss_fn, optimizer, batch_size)\n",
        "    validation_loss = test_loop(test_loader, model, loss_fn)\n",
        "\n",
        "    torch.save({\n",
        "        'epoch': t,\n",
        "        'model_state_dict': model.state_dict(),\n",
        "        'optimizer_state_dict': optimizer.state_dict(),\n",
        "        'loss': validation_loss,\n",
        "    }, PATH + f'mnist-{t}.model')\n",
        "\n",
        "    if best_validation is None or validation_loss < best_validation:\n",
        "        best_validation = validation_loss\n",
        "        best_path = PATH + f'mnist-{t}.model'\n",
        "\n",
        "    scheduler.step()\n",
        "\n",
        "print(\"Done - \", best_path)"
      ]
    },
    {
      "cell_type": "code",
      "execution_count": null,
      "metadata": {
        "ExecuteTime": {
          "end_time": "2022-03-15T01:45:49.871919Z",
          "start_time": "2022-03-15T01:45:49.331923Z"
        },
        "id": "6qkarhKRD7yS"
      },
      "outputs": [],
      "source": [
        "model = NormalizingFlowMNist(num_coupling=4, num_final_coupling=1, planes=256).to(device)\n",
        "optimizer = torch.optim.Adam(model.parameters(), lr=learning_rate)\n",
        "\n",
        "#checkpoint = torch.load('checkpoints/mnist-1.model')\n",
        "checkpoint = torch.load(best_path)\n",
        "model.load_state_dict(checkpoint['model_state_dict'])\n",
        "optimizer.load_state_dict(checkpoint['optimizer_state_dict'])\n",
        "epoch = checkpoint['epoch']\n",
        "loss = checkpoint['loss']"
      ]
    },
    {
      "cell_type": "markdown",
      "metadata": {
        "ExecuteTime": {
          "end_time": "2022-02-14T02:14:36.224357Z",
          "start_time": "2022-02-14T02:14:36.221330Z"
        },
        "id": "Xp6-EdccD7yT"
      },
      "source": [
        "# Debug - Check that foward/reverse are (about) equal"
      ]
    },
    {
      "cell_type": "code",
      "execution_count": null,
      "metadata": {
        "ExecuteTime": {
          "end_time": "2022-03-15T01:45:50.125022Z",
          "start_time": "2022-03-15T01:45:49.873735Z"
        },
        "id": "EFrKYUMQD7yT"
      },
      "outputs": [],
      "source": [
        "# DEBUG - Checkmodel[s]\n",
        "model.validate()\n",
        "with torch.no_grad():\n",
        "    train_loader = DataLoader(train_dataset, batch_size=batch_size, shuffle=False) #shuffle=True)\n",
        "    for x, _ in train_loader:\n",
        "        x_pre = pre_process(x).to(device)\n",
        "        y, s, norms, scale = model(x_pre)\n",
        "        print(y.shape)\n",
        "        break\n",
        "\n",
        "model.train()\n",
        "model.eval()\n",
        "with torch.no_grad():\n",
        "    xp = model(y)\n",
        "    x_post = post_process(xp)\n",
        "\n",
        "diff = x.to(device) - x_post\n",
        "print(torch.any(torch.abs(diff) > 1 / 255))"
      ]
    },
    {
      "cell_type": "code",
      "execution_count": null,
      "metadata": {
        "ExecuteTime": {
          "end_time": "2022-03-15T01:45:50.135401Z",
          "start_time": "2022-03-15T01:45:50.127426Z"
        },
        "id": "2apfvUvID7yT"
      },
      "outputs": [],
      "source": [
        "print(diff.shape)\n",
        "for i in range(batch_size):\n",
        "    if torch.any(torch.abs(diff[i]) > 1 / 255):\n",
        "        #print(diff[i])\n",
        "        for j in range(28):\n",
        "            for k in range(28):\n",
        "                if torch.any(torch.abs(diff[i, 0, j, k]) > 1 / 255):\n",
        "                    print(i, 1, j, k, diff[i, 0, j, k].cpu().numpy())\n",
        "                    break\n",
        "        break"
      ]
    },
    {
      "cell_type": "code",
      "execution_count": null,
      "metadata": {
        "ExecuteTime": {
          "end_time": "2022-03-15T01:45:50.448219Z",
          "start_time": "2022-03-15T01:45:50.136892Z"
        },
        "id": "WvfCCV7yD7yT"
      },
      "outputs": [],
      "source": [
        "s = pd.Series(torch.flatten(y).cpu().numpy())\n",
        "print(s.describe())\n",
        "s.hist(bins=50)"
      ]
    },
    {
      "cell_type": "code",
      "execution_count": null,
      "metadata": {
        "ExecuteTime": {
          "end_time": "2022-03-15T01:45:50.774422Z",
          "start_time": "2022-03-15T01:45:50.449830Z"
        },
        "scrolled": false,
        "id": "p-0hB-i-D7yT"
      },
      "outputs": [],
      "source": [
        "figure = plt.figure(figsize=(8, 8))\n",
        "cols, rows = 3, 3\n",
        "for i in range(1, cols * rows + 1):\n",
        "    sample_idx = torch.randint(len(train_dataset), size=(1,)).item()\n",
        "    img, label = train_dataset[sample_idx]\n",
        "    figure.add_subplot(rows, cols, i)\n",
        "    plt.title(str(label))\n",
        "    plt.axis(\"off\")\n",
        "    plt.imshow(img.squeeze(), cmap=\"gray\")\n",
        "plt.show()"
      ]
    },
    {
      "cell_type": "code",
      "execution_count": null,
      "metadata": {
        "ExecuteTime": {
          "end_time": "2022-03-15T01:45:50.819830Z",
          "start_time": "2022-03-15T01:45:50.775911Z"
        },
        "id": "s_GMF8n6D7yT"
      },
      "outputs": [],
      "source": [
        "model.eval()\n",
        "with torch.no_grad():\n",
        "    X = torch.Tensor(torch.randn((1, 28 * 28 * 1))).to(device)\n",
        "    Y = model(X)\n",
        "    samples = post_process(Y).cpu().numpy()"
      ]
    },
    {
      "cell_type": "code",
      "execution_count": null,
      "metadata": {
        "ExecuteTime": {
          "end_time": "2022-03-15T01:45:52.763750Z",
          "start_time": "2022-03-15T01:45:50.821508Z"
        },
        "id": "62FAudVmD7yT"
      },
      "outputs": [],
      "source": [
        "model.eval()\n",
        "\n",
        "cols, rows = 8, 8\n",
        "with torch.no_grad():\n",
        "    X = torch.Tensor(torch.normal(torch.zeros(cols * rows, 28 * 28 * 1),\n",
        "                                  torch.ones(cols * rows, 28 * 28 * 1))).to(device)\n",
        "    Y = model(X)\n",
        "    samples = post_process(Y).cpu().numpy()\n",
        "\n",
        "figure = plt.figure(figsize=(15, 15))\n",
        "for i in range(1, cols * rows + 1):\n",
        "    img = samples[i - 1]\n",
        "    figure.add_subplot(rows, cols, i)\n",
        "    plt.axis(\"off\")\n",
        "    plt.imshow(img.squeeze(), cmap=\"gray\")\n",
        "plt.show()"
      ]
    },
    {
      "cell_type": "markdown",
      "metadata": {
        "id": "Sui0yE12D7yT"
      },
      "source": [
        "# 2022-03-14\n",
        "\n",
        "* Figured out why I was getting negative LL!  It was because I wasn't accounting for `x/255` transform that I did in the preprocessing step.  This is just a linear scale on each pixel, so it adds `log(255)` to the loss function or `log(255)/log(2)` bits per pixel.\n",
        "* I lowered the learning rate to `0.0005` because it looks like it was overfitting after one epoch and I changed batchnorm momentum to `0.005` (from `0.01`) since I was worried about too much bias to recent batches (and not enough batches).\n",
        "* I got a loss of 1.92 bits/pixel, which is not as good as GLOW results of 1.26 bits/pixel from this paper:\n",
        "  * `Do Deep Generative Models Know What They Don’t Know Now?`, Nalisnick et al\n",
        "  * But I'm using an older architecture so it's probably not terrible\n",
        "* Results still look pretty crappy (but sharp), good enough for now\n",
        "  \n",
        "My goodness!\n",
        "* Found a big bug. My model has function parameters of `num_coupling, num_final_coupling, planes` but I only passed in `(12, 32)` thinking that 32 represented planes, but it was actually coupling layers!\n",
        "* This masked another bug where I was ignoring the `12/32` last final coupling layers because my for loop ran from `reversed(range(num_coupling, num_final_coupling))`, where it should have actually been `range(num_coupling, num_coupling + num_final_coupling)`!\n",
        "    * Same issue on forward pass, so that's probably why it kind of worked?\n",
        "    * Is that why I was getting pretty garbage output?\n",
        "* Output looks a bit cleaner now and a bit more plausible but getting 1.67 bits/pixel, which isn't terrible (compared to 1.26 for GLOW):\n",
        "\n",
        "![image.png](attachment:image.png)"
      ]
    },
    {
      "cell_type": "markdown",
      "metadata": {
        "id": "Gq0rR18GD7yU"
      },
      "source": [
        "# 2022-03-12\n",
        "\n",
        "* Found another bug from the last change.  Changed the initialization of `s_scale, t_scale, t_bias` all back to zero (originally small 0.1 norm for scale, and zero for bias; then to ones for the s_scale).  \n",
        "  * The reason is that we want to initialize so that `s * x + t` is just a pass through\n",
        "  * So of course we want `t` to be zero --> So we set the `t_scale, t_bias` to be zero\n",
        "  * And we want `s=exp(s_scale*...) = 1`, therefore we also want `s_scale = 0`\n",
        "* Also added checkpointing to epochs so I don't have to fiddle around with retrainign with different epochs"
      ]
    },
    {
      "cell_type": "markdown",
      "metadata": {
        "id": "x00ED2xsD7yU"
      },
      "source": [
        "# 2022-03-06\n",
        "\n",
        "* Found a bug in BatchNorm code... wasn't taking log of the denominator!\n",
        "    * Fixed it and added back batchnorm to *every* layer (including ones outputting to y)\n",
        "* Samples still look funny (although they are sharp)\n",
        "    * I mean it's possible that the validation loss (bits/pixel) are good but the image is bad\n",
        "* Also expecting that my loss shouldn't go negative with the uniform noise I'm adding, going to investigate that...\n",
        "* Noticed few things:\n",
        "    * Changed momentum on batch layers to 0.01 -- if it's too high than the norm layer will \"tune\" (i.e. overfit) too well to the current batch, making it not so useful?\n",
        "        * This may also have caused issues with not having a good \"sample\" of the overall mean even for prediction\n",
        "    * BUG? I was initializing the s-scale and t-scale to small numbers near zero -- instead I initialized them straight to `1` because my prior for these really should just be pass throughs\n",
        "    * BUG: During validation (MNIST test set), I left the batch layer to keep changing the running mean!   This definitely was not intended, so I had to modify batch again to allow one to pass in whether or not we're in validation.\n",
        "* Now I'm not getting super negative bits/pixel in training (it's hovering between -0.5 to 1).  Let's see where this training finishes and how the images look."
      ]
    },
    {
      "cell_type": "markdown",
      "metadata": {
        "id": "v-sgZbGxD7yU"
      },
      "source": [
        "# 2022-02-27\n",
        "\n",
        "Experiment 1:\n",
        "* Implemented the moving average batch norm, didn't really do that much (I think)\n",
        "* Still have issues if I add batch norm on the final checkboarding layers\n",
        "  * I wonder if that's also an issue with the vars when I factor them out\n",
        "  \n",
        "Experiment 2:\n",
        "* Removed batch norm from coupling layers before I factor out the vars into the final z values\n",
        "* Also reduced number of BasicBlocks (Resnet) to 2 from 4 (since I think MNIST shouldn't need that many)...\n",
        "* Increase batch size from 10 to 25\n",
        "   * Small batches may cause too much variance?\n",
        "* Now I'm getting negative loss again (the positive losses are probably due to batch norm making it normally distributed)\n",
        "  * Probably going to get not exactly zero-mean, std=1 on the z vars\n",
        "* Loss around -0.3\n",
        "\n",
        "Huzzah!  It looks like I have really crisp numbers now.  Let's try to train on the entire MNIST.\n",
        "\n",
        "![image.png](attachment:image.png)"
      ]
    },
    {
      "cell_type": "markdown",
      "metadata": {
        "id": "KlXPSV91D7yU"
      },
      "source": [
        "# 2022-02-26\n",
        "\n",
        "* Had to build my own batch norm so I could return the scaling factor AND support the reverse operation\n",
        "* Holy molly, batch norm basically made the whole thing work!  Trying to overfit on a sample of 10 images, I've gotten the clearest images I've seen yet!\n",
        "  * Was able to use learning rate of 0.01 without much issue\n",
        "  * Loss also didn't decrease to negative territory, got something 1.74\n",
        "  * With the introduction of batch norm, the forward and backward pass test is not exact (I guess because of batch norm)\n",
        "* Interestingly, the histogram is very close to std norm: mean = 0.002, std = 0.96\n",
        "\n",
        "![image.png](attachment:image.png)\n",
        "\n",
        "Next up try to fit a larger sample..."
      ]
    },
    {
      "cell_type": "markdown",
      "metadata": {
        "id": "wi2tBiMgD7yU"
      },
      "source": [
        "* Training on 100 seems to be worse... but it may be because of the way I'm limiting the batches\n",
        "* Lowest loss is around 2.5 (with randomization)\n",
        "\n",
        "NEXT:\n",
        "\n",
        "* Removing batch-norm right before latent vars (seems to have some problems)\n",
        "* Might need the averaging batch loss described in the paper?\n",
        "\n",
        "![image.png](attachment:image.png)"
      ]
    },
    {
      "cell_type": "markdown",
      "metadata": {
        "id": "g2gZurHsD7yU"
      },
      "source": [
        "# 2022-02-20\n",
        "\n",
        "NEXT:\n",
        "\n",
        "* Use batch norm across each coupling layer\n",
        "    * Cannot use instance norm because you don't know mean and std when you reverse things!\n",
        "    * Instead with batch norm you just use the running average when you use the reverse network!\n",
        "* But will need to calculate `var` for the loss function, so will probably have to re-implement it, see these implementations to get you started:\n",
        "    * https://discuss.pytorch.org/t/implementing-batchnorm-in-pytorch-problem-with-updating-self-running-mean-and-self-running-var/49314/5\n",
        "    * https://discuss.pytorch.org/t/am-i-too-dumb-to-implement-instance-norm/16672\n",
        "    * https://pytorch.org/docs/stable/_modules/torch/nn/modules/batchnorm.html#BatchNorm2d\n",
        "* Should probably implement it as a layer (see second link) so that I can save the running statistics properly and encapsulate the different behavior in testing/training."
      ]
    },
    {
      "cell_type": "markdown",
      "metadata": {
        "id": "-9GNVgKJD7yU"
      },
      "source": [
        "# 2022-02-18\n",
        "\n",
        "* Changed up the s/t functions:\n",
        "   * Use a conv3x3 to expand to `planes`, use regular resnet blocks (from PyTorch), then use conv3x3 to convert back to inplanes\n",
        "   * Use `InstanceNorm2D`, which seems to be better for generative models and makes training a lot faster\n",
        "   * Can get to loss lower than -5.4/pxel and quality goes up\n",
        "* Need to tune epochs and lr to make sure get a good loss\n",
        "   \n",
        "![image.png](attachment:image.png)"
      ]
    },
    {
      "cell_type": "markdown",
      "metadata": {
        "id": "k-cKejK9D7yU"
      },
      "source": [
        "* Same as above with 100 images and some tuning of epochs and lr\n",
        "\n",
        "![image.png](attachment:image.png)"
      ]
    },
    {
      "cell_type": "markdown",
      "metadata": {
        "id": "44bEm_0GD7yU"
      },
      "source": [
        "# 2022-02-13\n",
        "\n",
        "* Adding several checkerboard coupling layers at the end (with just one super-scale iteration) seemed to make fitting on a single image much better (sampling from a standard normal -- no more sampling from zeros):\n",
        "\n",
        "  * I suspect these coupling layers have very limited transformation power, that's why you need so many of them to even translate things.\n",
        "  * Detail: I'm still using pixel (no pre-processing) but am adding the U(0,1) pixel noise\n",
        "![image.png](attachment:image.png)\n"
      ]
    },
    {
      "cell_type": "markdown",
      "metadata": {
        "ExecuteTime": {
          "end_time": "2022-02-13T23:37:17.151991Z",
          "start_time": "2022-02-13T23:37:17.146659Z"
        },
        "id": "LKYiSRmBD7yU"
      },
      "source": [
        "* When I try to fit two images though, I get something that looks like a superposition (between \"5\" and \"0\"):\n",
        "![image.png](attachment:image.png)"
      ]
    },
    {
      "cell_type": "markdown",
      "metadata": {
        "id": "vJD60_wLD7yU"
      },
      "source": [
        "* Adding two multi-scale iterations (3 checker, 1 squeeze, 3 channel, 3 checker, 1 squeeze, 3 channel) + 4 checker) with two images\n",
        "    * Gets me closer to something that looks right\n",
        "    * It's still confusing things but can sometimes, *sort of* distiguish between \"5\" and \"0\" making some parts of the 0 darker to make the 5 standout (and vice versa)\n",
        "* I probably need the factoring out of variables that theoretically will have local/global sort of effect?    \n",
        "\n",
        "![image.png](attachment:image.png)"
      ]
    },
    {
      "cell_type": "markdown",
      "metadata": {
        "id": "Pp7YmgEOD7yU"
      },
      "source": [
        "* Added the factoring code, surprisingly it wasn't that bad.  Pytorch is pretty easy to work with!\n",
        "* I can *sort of* do 2 images now?  In some cases, you have a clear distinction between \"5\" and \"0\".  In others, it's mixed.\n",
        "    * I think I just need longer training to perfect them... let's see.\n",
        "    * More noise of course, but maybe because I need more training?\n",
        "\n",
        "![image.png](attachment:image.png)"
      ]
    },
    {
      "cell_type": "markdown",
      "metadata": {
        "id": "zD6chKaZD7yU"
      },
      "source": [
        "* More training and training with 10 points, get something kind of blurry, but sort of recognizable\n",
        "* Need to do more investigation why the pictures aren't that sharp -- not clear to me at the moment\n",
        "* I tried increasing planes 64 -> 96, still get kind of the same loss (about -3.8/pixel)\n",
        "* The distribution mean is close to 0 (0.04) but std is around 0.4, not close to 1 (which was what it was when I trained a single example above)\n",
        "* Feels like I need more capacity\n",
        "\n",
        "TODO:\n",
        "\n",
        "* Try to increase number of bottleneck layers (4 -> 8)?\n",
        "\n",
        "![image.png](attachment:image.png)"
      ]
    },
    {
      "cell_type": "markdown",
      "metadata": {
        "id": "ZfuJZr9sD7yU"
      },
      "source": [
        "# 2022-02-12\n",
        "\n",
        "* Implemented the multi-scale architecture (with just one iteration)\n",
        "    * 3 checkerboard, squeeze, 3 channel\n",
        "* I can *sort of* overfit on a single image, but if I try to increase number of images, I still don't get anything that resembles a number.\n",
        "    * My conclusion is that checkboard alone cannot model an overal image, esp. if you are just going back and forth on the same variables.\n",
        "    * You want some mixing of variables (not just swapping back and forth), especially because these are affine transformations.\n",
        "    * Additionally, since the original # of channels = 1 (greyscale image), the conv operation is probably not doing much, as opposed to after squeeze, you have many more channels to work with\n",
        "* However... it does suggest something more plausible:\n",
        "    * Some center of mass\n",
        "    * Very dark and/or light pixels\n",
        "* NEXT:\n",
        "    * Try to implement more than one iteration of multi-scale architecture\n",
        "    * AND partition out some vars after each iteration (like the paper)\n",
        "    * Supposedly the lower Gaussians model the coarse detail, while the later ones will model finer detail\n",
        "    * If that is true, then it explains why I just get a big blob in the center\n",
        "\n",
        "\n",
        "![image.png](attachment:image.png)"
      ]
    },
    {
      "cell_type": "markdown",
      "metadata": {
        "id": "3rsJVXtXD7yV"
      },
      "source": [
        "# 2022-02-10\n",
        "\n",
        "* Tried adding scale/bias parameters to make affine transform in the \"t\" var -- didn't really do anything\n",
        "* Tried to overfit on a **single** image\n",
        "    * By sampling from zeros(.), I can generate something *close* to the original image (not a perfect match) has a bit of noise still\n",
        "    * Strange I can't get a better fit... why is there still so much noise?\n",
        "\n",
        "![image.png](attachment:image.png)\n",
        "\n",
        "* Tried removing U(0,1) pixel noise -- didn't seem to work\n",
        "* Tried removing determinant from loss function -- didn't seem work\n",
        "* Tried removing this post-processing -- get a much clearer image ???\n",
        "* Tried training with 10 images -- get garbage when sampling from normal (but lots of 0/255)\n",
        "\n",
        "INVESTIGATE:\n",
        "\n",
        "* What is going on with post-processing?\n",
        "* Why doesn't training with 10 images work?\n",
        "    "
      ]
    },
    {
      "cell_type": "markdown",
      "metadata": {
        "id": "rlEY_BhlD7yV"
      },
      "source": [
        "# 2022-02-05\n",
        "\n",
        "* Looks like the inverse operation is working as expected:\n",
        "  * Pass in a vector in forward pass pixels -> pre_process -> gaussian -> post_process -> pixels and get the same number (with some small 10e-8 errors, also had some 10-3 errors but much more seldom)\n",
        "* Added L2 regularizer on s_scale param, not much changed\n",
        "* I keep getting a shifted distribution (negative mean) and less than 1 std when I take a batch of training and pass it through a forward pass to get z\n",
        "  * Tried removing the det terms and it still looks skewed\n",
        "* INVESTIGATE: This seems like it's relevant because if I'm sampling from a 0-mean Gaussian but real examples always end up shifted left, then of course I'm going to generate bad images\n",
        "* ANOTHER IDEA: overfit on a much smaller training set (10, 100 images)"
      ]
    },
    {
      "cell_type": "markdown",
      "metadata": {
        "id": "YDp8KJjbD7yW"
      },
      "source": [
        "# 2022-02-02\n",
        "\n",
        "* Implemented post-processing to convert back to pixel space but still seems like I'm getting garbage, need to debug further.\n",
        "* Ideas to double check:\n",
        "    * loss function\n",
        "    * inverse operation (should check back and forwards give the same answer)\n",
        "    * Check that forward pass actually gives something Gaussian like..."
      ]
    },
    {
      "cell_type": "markdown",
      "metadata": {
        "id": "XdZeDJAuD7ya"
      },
      "source": [
        "# 2022-02-01\n",
        "\n",
        "* Finally got around to actually generating images... and they are just noise!\n",
        "* Might be a bug in the network, might be that I need to increase capacity of network.  Now the fun starts!\n",
        "    * I might also have to add the \"multi-scale architecture\"\n",
        "    * Another issue might be the batch-norm layers, which probably behave very differently in testing -- I actually did comment it out.\n",
        "    \n",
        "    \n",
        "I NEED TO CONVERT BACK TO PIXEL SPACE!!!!\n",
        "\n",
        "![image.png](attachment:image.png)"
      ]
    },
    {
      "cell_type": "markdown",
      "metadata": {
        "id": "EAcsMW8ND7ya"
      },
      "source": [
        "# 2022-01-31\n",
        "\n",
        "* The negative values are coming from determinant because log |df/dx| = log(|exp(s)|) = s\n",
        "* So the loss is essentially trying to make `s` very large (more negative).\n",
        "* Theoretically, it's possible by allowing the unmasked variables to almost exactly predict the masked variables, so you could multiply by a large number s(unmasked) vars, and adjust by t(unmasked) = -s(unmasked) * unmasked, to get the maximum s*masked_x - t = s*unmasked_x - s*unmasked_x = 0, which is the maximum density point for the Gaussian\n",
        "* Need to look into how the determinant (i.e. s) is be generated.  From prelim debugging above, it looks like it's generating a lot of zeros (even in unmasked positions), so I have to sort out why that's the case.\n",
        "\n",
        "Wait... found a bug.  I was putting the determinant as `mask * s` instead of the correct `(1 - mask) * s`.\n"
      ]
    },
    {
      "cell_type": "markdown",
      "metadata": {
        "id": "NzZShP4LD7ya"
      },
      "source": [
        "# 2022-01-29\n",
        "\n",
        "* Getting lots of NaNs -- debugged a bunch of things:\n",
        "    * Removed Resnet\n",
        "    * Removed exp()\n",
        "    * Made forward pass a simple feedforward\n",
        "* But it looks like issue is the data???    \n",
        "    * The stupid paper said the transform should be `logit(alpha + (1-alpha)*x/256)`...\n",
        "    * Data is originally in [0,1] (pytorch dataset)\n",
        "    * Convert back to pixels multiply by 255\n",
        "    * Add jitter to get upper bound on bits per pixel (see my post)\n",
        "    * Range is now [0, 256]\n",
        "    * Suggested alpha=0.05 (I had a bug and used 0.5)\n",
        "    * But that gets you really close to 256 (jitter is always less than 1.0 though) e.g.i logit(0.05 + 0.95 * ~255.99/256) ~= \\inf!\n",
        "    * Instead, I used this `logit(alpha + (1-alpha - 0.05)*x/256)`, which is symmetrical...\n",
        "    \n",
        "NEXT STEPS:\n",
        "* So things look good now, except that I get a negative loss, which shouldn't happen (after applying jitter)???\n",
        "    * It's because I need a new uniform noise sample per EPOCH???\n",
        "    * Or is it because I'm using continuous variables on the output?  So maybe I just need to measure this \"loss\" when I reverse the network?  \n",
        "        * It's probably this... if it's a continuous output, the log density surely doesn't need to be positive (vs. if I were directly outputting pixel values).\n",
        "        \n",
        "        \n",
        "I THINK I FIGURED IT OUT:  IT's becuase I didn't have the 1/sqrt(2pi) in the log-likelihood!"
      ]
    },
    {
      "cell_type": "code",
      "execution_count": null,
      "metadata": {
        "id": "qGuE_2p1D7ya"
      },
      "outputs": [],
      "source": []
    }
  ],
  "metadata": {
    "kernelspec": {
      "display_name": "Python 3",
      "name": "python3"
    },
    "language_info": {
      "codemirror_mode": {
        "name": "ipython",
        "version": 3
      },
      "file_extension": ".py",
      "mimetype": "text/x-python",
      "name": "python",
      "nbconvert_exporter": "python",
      "pygments_lexer": "ipython3",
      "version": "3.6.5"
    },
    "colab": {
      "provenance": [],
      "gpuType": "T4",
      "include_colab_link": true
    },
    "accelerator": "GPU"
  },
  "nbformat": 4,
  "nbformat_minor": 0
}